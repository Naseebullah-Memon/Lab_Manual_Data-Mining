{
 "cells": [
  {
   "cell_type": "code",
   "execution_count": 6,
   "metadata": {},
   "outputs": [
    {
     "name": "stdout",
     "output_type": "stream",
     "text": [
      "Mean =  7.2592592592592595\n"
     ]
    }
   ],
   "source": [
    "# Import data\n",
    "import math\n",
    "\n",
    "# Create list of values\n",
    "data = [3,2,3,4,2,3,5,2,2,33,3,5,2,2,5,6,62,2,2,3,6,6,2,23,3,2,3]\n",
    "\n",
    "# Calculate n\n",
    "n = len(data)\n",
    "\n",
    "# Calculate the mean\n",
    "mean = sum(data)/len(data)\n",
    "\n",
    "# Show mean\n",
    "print(\"Mean = \",mean)"
   ]
  },
  {
   "cell_type": "code",
   "execution_count": 3,
   "metadata": {},
   "outputs": [],
   "source": [
    "# Create a list of all deviations from the mean\n",
    "all_deviations_from_mean_squared = []\n",
    "\n",
    "# For each observation in the data\n",
    "for observation in data:\n",
    "    \n",
    "    # Calculate the deviation from the mean\n",
    "    deviation_from_mean = (observation - mean)\n",
    "    \n",
    "    # Square it\n",
    "    deviation_from_mean_squared = deviation_from_mean**2\n",
    "    \n",
    "    # Add the result to our list\n",
    "    all_deviations_from_mean_squared.append(deviation_from_mean_squared)\n",
    "\n",
    "# Sum all the squared deviations in our list    \n",
    "sum_of_deviations_from_mean_squared = sum(all_deviations_from_mean_squared)"
   ]
  },
  {
   "cell_type": "code",
   "execution_count": 7,
   "metadata": {},
   "outputs": [
    {
     "name": "stdout",
     "output_type": "stream",
     "text": [
      "Variance =  160.78463648834017\n"
     ]
    }
   ],
   "source": [
    "# Divide by n\n",
    "population_variance = sum_of_deviations_from_mean_squared/n\n",
    "\n",
    "# Show variance\n",
    "print(\"Variance = \",population_variance)"
   ]
  },
  {
   "cell_type": "code",
   "execution_count": 8,
   "metadata": {},
   "outputs": [
    {
     "name": "stdout",
     "output_type": "stream",
     "text": [
      "Standard Deviation =  12.68008818929664\n"
     ]
    }
   ],
   "source": [
    "# Find the square root of the population variance\n",
    "population_standard_deviation = math.sqrt(population_variance)\n",
    "\n",
    "# Print the populaton standard deviation\n",
    "print(\"Standard Deviation = \",population_standard_deviation)"
   ]
  },
  {
   "cell_type": "code",
   "execution_count": null,
   "metadata": {},
   "outputs": [],
   "source": []
  }
 ],
 "metadata": {
  "kernelspec": {
   "display_name": "Python 3",
   "language": "python",
   "name": "python3"
  },
  "language_info": {
   "codemirror_mode": {
    "name": "ipython",
    "version": 3
   },
   "file_extension": ".py",
   "mimetype": "text/x-python",
   "name": "python",
   "nbconvert_exporter": "python",
   "pygments_lexer": "ipython3",
   "version": "3.7.1"
  }
 },
 "nbformat": 4,
 "nbformat_minor": 2
}
