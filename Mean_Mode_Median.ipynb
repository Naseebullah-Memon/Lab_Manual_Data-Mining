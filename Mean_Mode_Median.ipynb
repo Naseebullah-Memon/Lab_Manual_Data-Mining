{
 "cells": [
  {
   "cell_type": "code",
   "execution_count": 19,
   "metadata": {},
   "outputs": [
    {
     "name": "stdout",
     "output_type": "stream",
     "text": [
      "Average: 5.0\n",
      "Median: 5\n",
      "Mode: [(1, 1)]\n"
     ]
    }
   ],
   "source": [
    "from collections import Counter\n",
    "def mean(list):\n",
    "    return float((sum(list)/(len(list))))\n",
    "\n",
    "def median(list):\n",
    "    list.sort()\n",
    "    \n",
    "    n = len(list)\n",
    "    if n % 2 == 0:\n",
    "        m1 = int(n/2)\n",
    "        m2 = int((n/2)-1)\n",
    "               \n",
    "        pos1 = list[m1]\n",
    "        pos2 = list[m2]\n",
    "        \n",
    "        med = ((pos1+pos2)/2)\n",
    "        return med\n",
    "    else:\n",
    "        m = int(n/2)\n",
    "        med = list[m]\n",
    "        return med\n",
    "    \n",
    "def mode(list):\n",
    "    data = Counter(list)\n",
    "    return data.most_common(1)\n",
    "\n",
    "if __name__ == '__main__':\n",
    "    newlist = [1,2,3,4,5,6,7,8,9]\n",
    "    print(\"Average: \"+ str(mean(newlist)))\n",
    "    print(\"Median: \" +str(median(newlist)))\n",
    "    print(\"Mode: \" + str(mode(newlist)))"
   ]
  },
  {
   "cell_type": "code",
   "execution_count": null,
   "metadata": {},
   "outputs": [],
   "source": []
  }
 ],
 "metadata": {
  "kernelspec": {
   "display_name": "Python 3",
   "language": "python",
   "name": "python3"
  },
  "language_info": {
   "codemirror_mode": {
    "name": "ipython",
    "version": 3
   },
   "file_extension": ".py",
   "mimetype": "text/x-python",
   "name": "python",
   "nbconvert_exporter": "python",
   "pygments_lexer": "ipython3",
   "version": "3.7.1"
  }
 },
 "nbformat": 4,
 "nbformat_minor": 2
}
