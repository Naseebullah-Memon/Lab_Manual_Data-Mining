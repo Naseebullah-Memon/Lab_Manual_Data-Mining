{
 "cells": [
  {
   "cell_type": "markdown",
   "metadata": {},
   "source": [
    "# ****REGULAR_EXPRESSION***"
   ]
  },
  {
   "cell_type": "markdown",
   "metadata": {},
   "source": [
    "# match symbol"
   ]
  },
  {
   "cell_type": "code",
   "execution_count": 9,
   "metadata": {},
   "outputs": [
    {
     "data": {
      "text/plain": [
       "['$']"
      ]
     },
     "execution_count": 9,
     "metadata": {},
     "output_type": "execute_result"
    }
   ],
   "source": [
    "# Load regex package\n",
    "import re\n",
    "\n",
    "# Create a variable containing a text string\n",
    "text = '$100'\n",
    "\n",
    "# Find all instances of the exact match '$'\n",
    "re.findall(r'\\$', text)"
   ]
  },
  {
   "cell_type": "markdown",
   "metadata": {},
   "source": [
    "#  match word"
   ]
  },
  {
   "cell_type": "code",
   "execution_count": 15,
   "metadata": {},
   "outputs": [
    {
     "data": {
      "text/plain": [
       "['fox', 'the']"
      ]
     },
     "execution_count": 15,
     "metadata": {},
     "output_type": "execute_result"
    }
   ],
   "source": [
    "# Load regex package\n",
    "import re\n",
    "\n",
    "# Create a variable containing a text string\n",
    "text = 'A quick brown fox jumped over the lazy brown bear.'\n",
    "\n",
    "# Find any word of three letters\n",
    "re.findall(r'\\b...\\b', text)"
   ]
  },
  {
   "cell_type": "markdown",
   "metadata": {},
   "source": [
    "# match characters"
   ]
  },
  {
   "cell_type": "code",
   "execution_count": 18,
   "metadata": {},
   "outputs": [
    {
     "data": {
      "text/plain": [
       "['brow', 'brow', 'bear']"
      ]
     },
     "execution_count": 18,
     "metadata": {},
     "output_type": "execute_result"
    }
   ],
   "source": [
    "# Load regex package\n",
    "import re\n",
    "\n",
    "# Create a variable containing a text string\n",
    "text = 'A quick brown fox jumped over the lazy brown bear.'\n",
    "\n",
    "# Find anything with a 'T' and then the next two characters\n",
    "re.findall(r'b...', text)"
   ]
  },
  {
   "cell_type": "markdown",
   "metadata": {},
   "source": [
    "# Match Any Of A Series Of Options"
   ]
  },
  {
   "cell_type": "code",
   "execution_count": 20,
   "metadata": {},
   "outputs": [
    {
     "data": {
      "text/plain": [
       "['fox', 'bear']"
      ]
     },
     "execution_count": 20,
     "metadata": {},
     "output_type": "execute_result"
    }
   ],
   "source": [
    "# Load regex package\n",
    "import re\n",
    "\n",
    "# Create a variable containing a text string\n",
    "text = 'A quick brown fox jumped over the lazy brown bear.'\n",
    "\n",
    "# Find any of fox, snake, or bear\n",
    "re.findall(r'fox|snake|bear', text)"
   ]
  },
  {
   "cell_type": "markdown",
   "metadata": {},
   "source": [
    "# Match Any Of A List Of Characters"
   ]
  },
  {
   "cell_type": "code",
   "execution_count": 21,
   "metadata": {},
   "outputs": [
    {
     "data": {
      "text/plain": [
       "['u', 'i', 'o', 'o', 'u', 'e', 'o', 'e', 'e', 'a', 'o', 'e', 'a']"
      ]
     },
     "execution_count": 21,
     "metadata": {},
     "output_type": "execute_result"
    }
   ],
   "source": [
    "# Load regex package\n",
    "import re\n",
    "\n",
    "# Create a variable containing a text string\n",
    "text = 'A quick brown fox jumped over the lazy brown bear.'\n",
    "\n",
    "# Find all instances of any vowel\n",
    "re.findall(r'[aeiou]', text)"
   ]
  },
  {
   "cell_type": "markdown",
   "metadata": {},
   "source": [
    "# Match Any Of A Series Of Words"
   ]
  },
  {
   "cell_type": "code",
   "execution_count": 22,
   "metadata": {},
   "outputs": [
    {
     "data": {
      "text/plain": [
       "['fox', 'bear']"
      ]
     },
     "execution_count": 22,
     "metadata": {},
     "output_type": "execute_result"
    }
   ],
   "source": [
    "# Load regex package\n",
    "import re\n",
    "\n",
    "# Create a variable containing a text string\n",
    "text = 'A quick brown fox jumped over the lazy brown bear.'\n",
    "\n",
    "# Find any of fox, snake, or bear\n",
    "re.findall(r'\\b(fox|snake|bear)\\b', text)"
   ]
  },
  {
   "cell_type": "markdown",
   "metadata": {},
   "source": [
    "# Match Dates"
   ]
  },
  {
   "cell_type": "code",
   "execution_count": 23,
   "metadata": {},
   "outputs": [
    {
     "data": {
      "text/plain": [
       "['09/06/1996', '20/10/2001', '24/04/1995', '25/03/2010']"
      ]
     },
     "execution_count": 23,
     "metadata": {},
     "output_type": "execute_result"
    }
   ],
   "source": [
    "# Load regex package\n",
    "import re\n",
    "\n",
    "# Create a variable containing a text string\n",
    "text = 'My birthday is 09/06/1996. My brother\\'s birthday is 20/10/2001. My other two brothers have birthdays of 24/04/1995 and 25/03/2010.'\n",
    "\n",
    "# Find any text that fits the regex\n",
    "re.findall(r'\\b[0-3]?[0-9]/[0-3]?[0-9]/(?:[0-9]{2})?[0-9]{2}\\b', text)"
   ]
  },
  {
   "cell_type": "markdown",
   "metadata": {},
   "source": [
    "# Match Email Addresses"
   ]
  },
  {
   "cell_type": "code",
   "execution_count": 25,
   "metadata": {},
   "outputs": [
    {
     "data": {
      "text/plain": [
       "['chris@hotmail.com', 'bob@data.ninja']"
      ]
     },
     "execution_count": 25,
     "metadata": {},
     "output_type": "execute_result"
    }
   ],
   "source": [
    "# Load regex package\n",
    "import re\n",
    "\n",
    "# Create a variable containing a text string\n",
    "text =  'My email is chris@hotmail.com, thanks! No, I am at bob@data.ninja.'\n",
    "\n",
    "# Find all email addresses\n",
    "re.findall(r'[a-zA-Z0-9_.+-]+@[a-zA-Z0-9-]+\\.[a-zA-Z0-9]+', text)\n",
    "\n",
    "# Explanation:\n",
    "# This regex has three parts\n",
    "# [a-zA-Z0-9_.+-]+ Matches a word (the username) of any length\n",
    "# @[a-zA-Z0-9-]+  Matches a word (the domain name) of any length\n",
    "# \\.[a-zA-Z0-9-.]+ Matches a word (the TLD) of any length"
   ]
  },
  {
   "cell_type": "markdown",
   "metadata": {},
   "source": [
    "# Match Exact Text"
   ]
  },
  {
   "cell_type": "code",
   "execution_count": 26,
   "metadata": {},
   "outputs": [
    {
     "data": {
      "text/plain": [
       "['first', 'first']"
      ]
     },
     "execution_count": 26,
     "metadata": {},
     "output_type": "execute_result"
    }
   ],
   "source": [
    "# Load regex package\n",
    "import re\n",
    "\n",
    "# Create a variable containing a text string\n",
    "text = 'The first permanent photograph, a contact-exposed copy of an engraving, was made in 1822 using the bitumen-based \"heliography\" process developed by Nicéphore Niépce. The first photographs of a real-world scene, made using a camera obscura, followed a few years later, but Niépces process was not sensitive enough to be practical for that application: a camera exposure lasting for hours or days was required.[2] In 1829 Niépce entered into a partnership with Louis Daguerre and the two collaborated to work out a similar but more sensitive and otherwise improved process.'\n",
    "\n",
    "# Find all instances of the exact match 'The'\n",
    "re.findall(r'first', text)"
   ]
  },
  {
   "cell_type": "markdown",
   "metadata": {},
   "source": [
    "# Match Integers Of Any Length"
   ]
  },
  {
   "cell_type": "code",
   "execution_count": 27,
   "metadata": {},
   "outputs": [
    {
     "data": {
      "text/plain": [
       "['21', '3', '4,003']"
      ]
     },
     "execution_count": 27,
     "metadata": {},
     "output_type": "execute_result"
    }
   ],
   "source": [
    "# Load regex package\n",
    "import re\n",
    "\n",
    "# Create a variable containing a text string\n",
    "text = '21 scouts and 3 tanks fought against 4,003 protestors.'\n",
    "\n",
    "# Find any character block that is a integer of any length\n",
    "re.findall(r'[1-9](?:\\d{0,2})(?:,\\d{3})*(?:\\.\\d*[1-9])?|0?\\.\\d*[1-9]|0', text)"
   ]
  },
  {
   "cell_type": "markdown",
   "metadata": {},
   "source": [
    "# Match Times"
   ]
  },
  {
   "cell_type": "code",
   "execution_count": 28,
   "metadata": {},
   "outputs": [
    {
     "data": {
      "text/plain": [
       "['12:34', '16:30']"
      ]
     },
     "execution_count": 28,
     "metadata": {},
     "output_type": "execute_result"
    }
   ],
   "source": [
    "# Load regex package\n",
    "import re\n",
    "\n",
    "# Create a variable containing a text string\n",
    "text = 'Chris: 12:34am. Steve: 16:30'\n",
    "\n",
    "# Find any text that fits the regex\n",
    "re.findall(r'([0-1]\\d:[0-5]\\d)\\s*(?:AM|PM)?', text)"
   ]
  },
  {
   "cell_type": "markdown",
   "metadata": {},
   "source": [
    "# Match URLs"
   ]
  },
  {
   "cell_type": "code",
   "execution_count": 30,
   "metadata": {},
   "outputs": [
    {
     "data": {
      "text/plain": [
       "[('http', 'www.google.com', ''), ('http', 'wikipedia.com', '')]"
      ]
     },
     "execution_count": 30,
     "metadata": {},
     "output_type": "execute_result"
    }
   ],
   "source": [
    "# Load regex package\n",
    "import re\n",
    "\n",
    "# Create a variable containing a text string\n",
    "text = 'My blog is http://www.google.com and not http://wikipedia.com'\n",
    "\n",
    "# Find any ISBN-10 or ISBN-13 number\n",
    "re.findall(r'(http|ftp|https):\\/\\/([\\w\\-_]+(?:(?:\\.[\\w\\-_]+)+))([\\w\\-\\.,@?^=%&amp;:/~\\+#]*[\\w\\-\\@?^=%&amp;/~\\+#])?', text)"
   ]
  },
  {
   "cell_type": "markdown",
   "metadata": {},
   "source": [
    "# Match US Phone Numbers"
   ]
  },
  {
   "cell_type": "code",
   "execution_count": 34,
   "metadata": {},
   "outputs": [
    {
     "data": {
      "text/plain": [
       "[('415', '333', '3922'), ('423', '938', '9283')]"
      ]
     },
     "execution_count": 34,
     "metadata": {},
     "output_type": "execute_result"
    }
   ],
   "source": [
    "# Load regex package\n",
    "import re\n",
    "\n",
    "# Create a variable containing a text string\n",
    "text = 'My phone number is 415-333-3922. His phone number is 4239389283'\n",
    "\n",
    "# Find any text that fits the regex\n",
    "re.findall(r'\\(?([2-9][0-8][0-9])\\)?[-.●]?([2-9][0-9]{2})[-.●]?([0-9]{4})', text)"
   ]
  },
  {
   "cell_type": "markdown",
   "metadata": {},
   "source": [
    "# Match ZIP Codes"
   ]
  },
  {
   "cell_type": "code",
   "execution_count": 35,
   "metadata": {},
   "outputs": [
    {
     "data": {
      "text/plain": [
       "['34923']"
      ]
     },
     "execution_count": 35,
     "metadata": {},
     "output_type": "execute_result"
    }
   ],
   "source": [
    "# Load regex package\n",
    "import re\n",
    "\n",
    "# Create a variable containing a text string\n",
    "text = '3829 South Ave Street, Pheonix, AZ 34923'\n",
    "\n",
    "# Find any ISBN-10 or ISBN-13 number\n",
    "re.findall(r'[0-9]{5}(?:-[0-9]{4})?', text)"
   ]
  },
  {
   "cell_type": "markdown",
   "metadata": {},
   "source": [
    "# Match Words With A Certain Ending"
   ]
  },
  {
   "cell_type": "code",
   "execution_count": 36,
   "metadata": {},
   "outputs": [
    {
     "data": {
      "text/plain": [
       "['Capitalism', 'Communism', 'Neorealism', 'Liberalism']"
      ]
     },
     "execution_count": 36,
     "metadata": {},
     "output_type": "execute_result"
    }
   ],
   "source": [
    "# Load regex package\n",
    "import re\n",
    "\n",
    "# Create a variable containing a text string\n",
    "text = 'Capitalism, Communism, Neorealism, Liberalism'\n",
    "\n",
    "# Find any word ending in 'ism'\n",
    "re.findall(r'\\b\\w*ism\\b', text)\n",
    "\n",
    "# Specific:\n",
    "# \\b     - start of the word\n",
    "# \\w*    - a word of any length\n",
    "# ism\\b  - with 'ism'at the end"
   ]
  },
  {
   "cell_type": "code",
   "execution_count": null,
   "metadata": {},
   "outputs": [],
   "source": []
  }
 ],
 "metadata": {
  "kernelspec": {
   "display_name": "Python 3",
   "language": "python",
   "name": "python3"
  },
  "language_info": {
   "codemirror_mode": {
    "name": "ipython",
    "version": 3
   },
   "file_extension": ".py",
   "mimetype": "text/x-python",
   "name": "python",
   "nbconvert_exporter": "python",
   "pygments_lexer": "ipython3",
   "version": "3.7.1"
  }
 },
 "nbformat": 4,
 "nbformat_minor": 2
}
